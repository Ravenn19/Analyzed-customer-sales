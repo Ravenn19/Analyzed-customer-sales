{
  "nbformat": 4,
  "nbformat_minor": 0,
  "metadata": {
    "colab": {
      "provenance": []
    },
    "kernelspec": {
      "name": "python3",
      "display_name": "Python 3"
    },
    "language_info": {
      "name": "python"
    }
  },
  "cells": [
    {
      "cell_type": "markdown",
      "source": [
        "**Import Library**"
      ],
      "metadata": {
        "id": "ACncIenk4fv-"
      }
    },
    {
      "cell_type": "code",
      "execution_count": null,
      "metadata": {
        "id": "o0pK7yEt4ZIH"
      },
      "outputs": [],
      "source": [
        "import pandas as pd\n",
        "import numpy as np\n",
        "import matplotlib.pyplot as plt\n",
        "import seaborn as sns\n",
        "from datetime import datetime\n",
        "\n",
        "# Set gaya visual\n",
        "sns.set(style=\"whitegrid\")\n"
      ]
    },
    {
      "cell_type": "markdown",
      "source": [
        "**Generate Dummy Dataset**"
      ],
      "metadata": {
        "id": "_dnMHUAe4oHC"
      }
    },
    {
      "cell_type": "code",
      "source": [
        "# Reproducible random seed\n",
        "np.random.seed(42)\n",
        "\n",
        "# Buat 100 data penjualan\n",
        "n = 100\n",
        "products = ['Laptop', 'Smartphone', 'Tablet', 'Headphone']\n",
        "prices = {'Laptop': 7_000_000, 'Smartphone': 3_500_000, 'Tablet': 4_500_000, 'Headphone': 750_000}\n",
        "\n",
        "data = {\n",
        "    'Transaction_ID': [f'TX{1000+i}' for i in range(n)],\n",
        "    'Customer_ID': np.random.randint(1000, 1050, n),\n",
        "    'Product': np.random.choice(products, n),\n",
        "    'Quantity': np.random.randint(1, 4, n),\n",
        "    'Date': pd.date_range(start='2024-01-01', periods=n, freq='D')\n",
        "}\n",
        "\n",
        "df = pd.DataFrame(data)\n",
        "df['Price'] = df['Product'].map(prices)\n",
        "df['Total'] = df['Quantity'] * df['Price']\n",
        "df.head()\n"
      ],
      "metadata": {
        "colab": {
          "base_uri": "https://localhost:8080/",
          "height": 206
        },
        "id": "2eFop2204pNK",
        "outputId": "4186dff1-cf31-4ad6-c3bf-b6505c1ae1d9"
      },
      "execution_count": null,
      "outputs": [
        {
          "output_type": "execute_result",
          "data": {
            "text/plain": [
              "  Transaction_ID  Customer_ID    Product  Quantity       Date    Price  \\\n",
              "0         TX1000         1038     Laptop         2 2024-01-01  7000000   \n",
              "1         TX1001         1028  Headphone         3 2024-01-02   750000   \n",
              "2         TX1002         1014     Laptop         1 2024-01-03  7000000   \n",
              "3         TX1003         1042  Headphone         3 2024-01-04   750000   \n",
              "4         TX1004         1007  Headphone         2 2024-01-05   750000   \n",
              "\n",
              "      Total  \n",
              "0  14000000  \n",
              "1   2250000  \n",
              "2   7000000  \n",
              "3   2250000  \n",
              "4   1500000  "
            ],
            "text/html": [
              "\n",
              "  <div id=\"df-977e105d-3c88-4364-82e7-d262138d9bc3\" class=\"colab-df-container\">\n",
              "    <div>\n",
              "<style scoped>\n",
              "    .dataframe tbody tr th:only-of-type {\n",
              "        vertical-align: middle;\n",
              "    }\n",
              "\n",
              "    .dataframe tbody tr th {\n",
              "        vertical-align: top;\n",
              "    }\n",
              "\n",
              "    .dataframe thead th {\n",
              "        text-align: right;\n",
              "    }\n",
              "</style>\n",
              "<table border=\"1\" class=\"dataframe\">\n",
              "  <thead>\n",
              "    <tr style=\"text-align: right;\">\n",
              "      <th></th>\n",
              "      <th>Transaction_ID</th>\n",
              "      <th>Customer_ID</th>\n",
              "      <th>Product</th>\n",
              "      <th>Quantity</th>\n",
              "      <th>Date</th>\n",
              "      <th>Price</th>\n",
              "      <th>Total</th>\n",
              "    </tr>\n",
              "  </thead>\n",
              "  <tbody>\n",
              "    <tr>\n",
              "      <th>0</th>\n",
              "      <td>TX1000</td>\n",
              "      <td>1038</td>\n",
              "      <td>Laptop</td>\n",
              "      <td>2</td>\n",
              "      <td>2024-01-01</td>\n",
              "      <td>7000000</td>\n",
              "      <td>14000000</td>\n",
              "    </tr>\n",
              "    <tr>\n",
              "      <th>1</th>\n",
              "      <td>TX1001</td>\n",
              "      <td>1028</td>\n",
              "      <td>Headphone</td>\n",
              "      <td>3</td>\n",
              "      <td>2024-01-02</td>\n",
              "      <td>750000</td>\n",
              "      <td>2250000</td>\n",
              "    </tr>\n",
              "    <tr>\n",
              "      <th>2</th>\n",
              "      <td>TX1002</td>\n",
              "      <td>1014</td>\n",
              "      <td>Laptop</td>\n",
              "      <td>1</td>\n",
              "      <td>2024-01-03</td>\n",
              "      <td>7000000</td>\n",
              "      <td>7000000</td>\n",
              "    </tr>\n",
              "    <tr>\n",
              "      <th>3</th>\n",
              "      <td>TX1003</td>\n",
              "      <td>1042</td>\n",
              "      <td>Headphone</td>\n",
              "      <td>3</td>\n",
              "      <td>2024-01-04</td>\n",
              "      <td>750000</td>\n",
              "      <td>2250000</td>\n",
              "    </tr>\n",
              "    <tr>\n",
              "      <th>4</th>\n",
              "      <td>TX1004</td>\n",
              "      <td>1007</td>\n",
              "      <td>Headphone</td>\n",
              "      <td>2</td>\n",
              "      <td>2024-01-05</td>\n",
              "      <td>750000</td>\n",
              "      <td>1500000</td>\n",
              "    </tr>\n",
              "  </tbody>\n",
              "</table>\n",
              "</div>\n",
              "    <div class=\"colab-df-buttons\">\n",
              "\n",
              "  <div class=\"colab-df-container\">\n",
              "    <button class=\"colab-df-convert\" onclick=\"convertToInteractive('df-977e105d-3c88-4364-82e7-d262138d9bc3')\"\n",
              "            title=\"Convert this dataframe to an interactive table.\"\n",
              "            style=\"display:none;\">\n",
              "\n",
              "  <svg xmlns=\"http://www.w3.org/2000/svg\" height=\"24px\" viewBox=\"0 -960 960 960\">\n",
              "    <path d=\"M120-120v-720h720v720H120Zm60-500h600v-160H180v160Zm220 220h160v-160H400v160Zm0 220h160v-160H400v160ZM180-400h160v-160H180v160Zm440 0h160v-160H620v160ZM180-180h160v-160H180v160Zm440 0h160v-160H620v160Z\"/>\n",
              "  </svg>\n",
              "    </button>\n",
              "\n",
              "  <style>\n",
              "    .colab-df-container {\n",
              "      display:flex;\n",
              "      gap: 12px;\n",
              "    }\n",
              "\n",
              "    .colab-df-convert {\n",
              "      background-color: #E8F0FE;\n",
              "      border: none;\n",
              "      border-radius: 50%;\n",
              "      cursor: pointer;\n",
              "      display: none;\n",
              "      fill: #1967D2;\n",
              "      height: 32px;\n",
              "      padding: 0 0 0 0;\n",
              "      width: 32px;\n",
              "    }\n",
              "\n",
              "    .colab-df-convert:hover {\n",
              "      background-color: #E2EBFA;\n",
              "      box-shadow: 0px 1px 2px rgba(60, 64, 67, 0.3), 0px 1px 3px 1px rgba(60, 64, 67, 0.15);\n",
              "      fill: #174EA6;\n",
              "    }\n",
              "\n",
              "    .colab-df-buttons div {\n",
              "      margin-bottom: 4px;\n",
              "    }\n",
              "\n",
              "    [theme=dark] .colab-df-convert {\n",
              "      background-color: #3B4455;\n",
              "      fill: #D2E3FC;\n",
              "    }\n",
              "\n",
              "    [theme=dark] .colab-df-convert:hover {\n",
              "      background-color: #434B5C;\n",
              "      box-shadow: 0px 1px 3px 1px rgba(0, 0, 0, 0.15);\n",
              "      filter: drop-shadow(0px 1px 2px rgba(0, 0, 0, 0.3));\n",
              "      fill: #FFFFFF;\n",
              "    }\n",
              "  </style>\n",
              "\n",
              "    <script>\n",
              "      const buttonEl =\n",
              "        document.querySelector('#df-977e105d-3c88-4364-82e7-d262138d9bc3 button.colab-df-convert');\n",
              "      buttonEl.style.display =\n",
              "        google.colab.kernel.accessAllowed ? 'block' : 'none';\n",
              "\n",
              "      async function convertToInteractive(key) {\n",
              "        const element = document.querySelector('#df-977e105d-3c88-4364-82e7-d262138d9bc3');\n",
              "        const dataTable =\n",
              "          await google.colab.kernel.invokeFunction('convertToInteractive',\n",
              "                                                    [key], {});\n",
              "        if (!dataTable) return;\n",
              "\n",
              "        const docLinkHtml = 'Like what you see? Visit the ' +\n",
              "          '<a target=\"_blank\" href=https://colab.research.google.com/notebooks/data_table.ipynb>data table notebook</a>'\n",
              "          + ' to learn more about interactive tables.';\n",
              "        element.innerHTML = '';\n",
              "        dataTable['output_type'] = 'display_data';\n",
              "        await google.colab.output.renderOutput(dataTable, element);\n",
              "        const docLink = document.createElement('div');\n",
              "        docLink.innerHTML = docLinkHtml;\n",
              "        element.appendChild(docLink);\n",
              "      }\n",
              "    </script>\n",
              "  </div>\n",
              "\n",
              "\n",
              "    <div id=\"df-37b45c50-a58e-4c3f-88be-d18142237e68\">\n",
              "      <button class=\"colab-df-quickchart\" onclick=\"quickchart('df-37b45c50-a58e-4c3f-88be-d18142237e68')\"\n",
              "                title=\"Suggest charts\"\n",
              "                style=\"display:none;\">\n",
              "\n",
              "<svg xmlns=\"http://www.w3.org/2000/svg\" height=\"24px\"viewBox=\"0 0 24 24\"\n",
              "     width=\"24px\">\n",
              "    <g>\n",
              "        <path d=\"M19 3H5c-1.1 0-2 .9-2 2v14c0 1.1.9 2 2 2h14c1.1 0 2-.9 2-2V5c0-1.1-.9-2-2-2zM9 17H7v-7h2v7zm4 0h-2V7h2v10zm4 0h-2v-4h2v4z\"/>\n",
              "    </g>\n",
              "</svg>\n",
              "      </button>\n",
              "\n",
              "<style>\n",
              "  .colab-df-quickchart {\n",
              "      --bg-color: #E8F0FE;\n",
              "      --fill-color: #1967D2;\n",
              "      --hover-bg-color: #E2EBFA;\n",
              "      --hover-fill-color: #174EA6;\n",
              "      --disabled-fill-color: #AAA;\n",
              "      --disabled-bg-color: #DDD;\n",
              "  }\n",
              "\n",
              "  [theme=dark] .colab-df-quickchart {\n",
              "      --bg-color: #3B4455;\n",
              "      --fill-color: #D2E3FC;\n",
              "      --hover-bg-color: #434B5C;\n",
              "      --hover-fill-color: #FFFFFF;\n",
              "      --disabled-bg-color: #3B4455;\n",
              "      --disabled-fill-color: #666;\n",
              "  }\n",
              "\n",
              "  .colab-df-quickchart {\n",
              "    background-color: var(--bg-color);\n",
              "    border: none;\n",
              "    border-radius: 50%;\n",
              "    cursor: pointer;\n",
              "    display: none;\n",
              "    fill: var(--fill-color);\n",
              "    height: 32px;\n",
              "    padding: 0;\n",
              "    width: 32px;\n",
              "  }\n",
              "\n",
              "  .colab-df-quickchart:hover {\n",
              "    background-color: var(--hover-bg-color);\n",
              "    box-shadow: 0 1px 2px rgba(60, 64, 67, 0.3), 0 1px 3px 1px rgba(60, 64, 67, 0.15);\n",
              "    fill: var(--button-hover-fill-color);\n",
              "  }\n",
              "\n",
              "  .colab-df-quickchart-complete:disabled,\n",
              "  .colab-df-quickchart-complete:disabled:hover {\n",
              "    background-color: var(--disabled-bg-color);\n",
              "    fill: var(--disabled-fill-color);\n",
              "    box-shadow: none;\n",
              "  }\n",
              "\n",
              "  .colab-df-spinner {\n",
              "    border: 2px solid var(--fill-color);\n",
              "    border-color: transparent;\n",
              "    border-bottom-color: var(--fill-color);\n",
              "    animation:\n",
              "      spin 1s steps(1) infinite;\n",
              "  }\n",
              "\n",
              "  @keyframes spin {\n",
              "    0% {\n",
              "      border-color: transparent;\n",
              "      border-bottom-color: var(--fill-color);\n",
              "      border-left-color: var(--fill-color);\n",
              "    }\n",
              "    20% {\n",
              "      border-color: transparent;\n",
              "      border-left-color: var(--fill-color);\n",
              "      border-top-color: var(--fill-color);\n",
              "    }\n",
              "    30% {\n",
              "      border-color: transparent;\n",
              "      border-left-color: var(--fill-color);\n",
              "      border-top-color: var(--fill-color);\n",
              "      border-right-color: var(--fill-color);\n",
              "    }\n",
              "    40% {\n",
              "      border-color: transparent;\n",
              "      border-right-color: var(--fill-color);\n",
              "      border-top-color: var(--fill-color);\n",
              "    }\n",
              "    60% {\n",
              "      border-color: transparent;\n",
              "      border-right-color: var(--fill-color);\n",
              "    }\n",
              "    80% {\n",
              "      border-color: transparent;\n",
              "      border-right-color: var(--fill-color);\n",
              "      border-bottom-color: var(--fill-color);\n",
              "    }\n",
              "    90% {\n",
              "      border-color: transparent;\n",
              "      border-bottom-color: var(--fill-color);\n",
              "    }\n",
              "  }\n",
              "</style>\n",
              "\n",
              "      <script>\n",
              "        async function quickchart(key) {\n",
              "          const quickchartButtonEl =\n",
              "            document.querySelector('#' + key + ' button');\n",
              "          quickchartButtonEl.disabled = true;  // To prevent multiple clicks.\n",
              "          quickchartButtonEl.classList.add('colab-df-spinner');\n",
              "          try {\n",
              "            const charts = await google.colab.kernel.invokeFunction(\n",
              "                'suggestCharts', [key], {});\n",
              "          } catch (error) {\n",
              "            console.error('Error during call to suggestCharts:', error);\n",
              "          }\n",
              "          quickchartButtonEl.classList.remove('colab-df-spinner');\n",
              "          quickchartButtonEl.classList.add('colab-df-quickchart-complete');\n",
              "        }\n",
              "        (() => {\n",
              "          let quickchartButtonEl =\n",
              "            document.querySelector('#df-37b45c50-a58e-4c3f-88be-d18142237e68 button');\n",
              "          quickchartButtonEl.style.display =\n",
              "            google.colab.kernel.accessAllowed ? 'block' : 'none';\n",
              "        })();\n",
              "      </script>\n",
              "    </div>\n",
              "\n",
              "    </div>\n",
              "  </div>\n"
            ],
            "application/vnd.google.colaboratory.intrinsic+json": {
              "type": "dataframe",
              "variable_name": "df",
              "summary": "{\n  \"name\": \"df\",\n  \"rows\": 100,\n  \"fields\": [\n    {\n      \"column\": \"Transaction_ID\",\n      \"properties\": {\n        \"dtype\": \"string\",\n        \"num_unique_values\": 100,\n        \"samples\": [\n          \"TX1083\",\n          \"TX1053\",\n          \"TX1070\"\n        ],\n        \"semantic_type\": \"\",\n        \"description\": \"\"\n      }\n    },\n    {\n      \"column\": \"Customer_ID\",\n      \"properties\": {\n        \"dtype\": \"number\",\n        \"std\": 14,\n        \"min\": 1000,\n        \"max\": 1049,\n        \"num_unique_values\": 46,\n        \"samples\": [\n          1033,\n          1015,\n          1046\n        ],\n        \"semantic_type\": \"\",\n        \"description\": \"\"\n      }\n    },\n    {\n      \"column\": \"Product\",\n      \"properties\": {\n        \"dtype\": \"category\",\n        \"num_unique_values\": 4,\n        \"samples\": [\n          \"Headphone\",\n          \"Smartphone\",\n          \"Laptop\"\n        ],\n        \"semantic_type\": \"\",\n        \"description\": \"\"\n      }\n    },\n    {\n      \"column\": \"Quantity\",\n      \"properties\": {\n        \"dtype\": \"number\",\n        \"std\": 0,\n        \"min\": 1,\n        \"max\": 3,\n        \"num_unique_values\": 3,\n        \"samples\": [\n          2,\n          3,\n          1\n        ],\n        \"semantic_type\": \"\",\n        \"description\": \"\"\n      }\n    },\n    {\n      \"column\": \"Date\",\n      \"properties\": {\n        \"dtype\": \"date\",\n        \"min\": \"2024-01-01 00:00:00\",\n        \"max\": \"2024-04-09 00:00:00\",\n        \"num_unique_values\": 100,\n        \"samples\": [\n          \"2024-03-24 00:00:00\",\n          \"2024-02-23 00:00:00\",\n          \"2024-03-11 00:00:00\"\n        ],\n        \"semantic_type\": \"\",\n        \"description\": \"\"\n      }\n    },\n    {\n      \"column\": \"Price\",\n      \"properties\": {\n        \"dtype\": \"number\",\n        \"std\": 2231052,\n        \"min\": 750000,\n        \"max\": 7000000,\n        \"num_unique_values\": 4,\n        \"samples\": [\n          750000,\n          3500000,\n          7000000\n        ],\n        \"semantic_type\": \"\",\n        \"description\": \"\"\n      }\n    },\n    {\n      \"column\": \"Total\",\n      \"properties\": {\n        \"dtype\": \"number\",\n        \"std\": 6085831,\n        \"min\": 750000,\n        \"max\": 21000000,\n        \"num_unique_values\": 11,\n        \"samples\": [\n          4500000,\n          14000000,\n          9000000\n        ],\n        \"semantic_type\": \"\",\n        \"description\": \"\"\n      }\n    }\n  ]\n}"
            }
          },
          "metadata": {},
          "execution_count": 2
        }
      ]
    },
    {
      "cell_type": "markdown",
      "source": [
        "**Data Overview**"
      ],
      "metadata": {
        "id": "DdtMMsC94s17"
      }
    },
    {
      "cell_type": "code",
      "source": [
        "print(\"Info Dataset:\")\n",
        "df.info()\n",
        "\n",
        "print(\"\\nRingkasan Statistik:\")\n",
        "print(df.describe())\n",
        "\n",
        "print(\"\\nJumlah transaksi per produk:\")\n",
        "print(df['Product'].value_counts())\n"
      ],
      "metadata": {
        "colab": {
          "base_uri": "https://localhost:8080/"
        },
        "id": "flHdhZx_4vNr",
        "outputId": "90629b5e-79c9-4de9-b091-5e8b66e6f123"
      },
      "execution_count": null,
      "outputs": [
        {
          "output_type": "stream",
          "name": "stdout",
          "text": [
            "Info Dataset:\n",
            "<class 'pandas.core.frame.DataFrame'>\n",
            "RangeIndex: 100 entries, 0 to 99\n",
            "Data columns (total 7 columns):\n",
            " #   Column          Non-Null Count  Dtype         \n",
            "---  ------          --------------  -----         \n",
            " 0   Transaction_ID  100 non-null    object        \n",
            " 1   Customer_ID     100 non-null    int64         \n",
            " 2   Product         100 non-null    object        \n",
            " 3   Quantity        100 non-null    int64         \n",
            " 4   Date            100 non-null    datetime64[ns]\n",
            " 5   Price           100 non-null    int64         \n",
            " 6   Total           100 non-null    int64         \n",
            "dtypes: datetime64[ns](1), int64(4), object(2)\n",
            "memory usage: 5.6+ KB\n",
            "\n",
            "Ringkasan Statistik:\n",
            "       Customer_ID    Quantity                 Date         Price  \\\n",
            "count   100.000000  100.000000                  100  1.000000e+02   \n",
            "mean   1024.070000    2.000000  2024-02-19 12:00:00  3.982500e+06   \n",
            "min    1000.000000    1.000000  2024-01-01 00:00:00  7.500000e+05   \n",
            "25%    1013.000000    1.000000  2024-01-25 18:00:00  2.812500e+06   \n",
            "50%    1023.000000    2.000000  2024-02-19 12:00:00  4.500000e+06   \n",
            "75%    1038.000000    3.000000  2024-03-15 06:00:00  4.500000e+06   \n",
            "max    1049.000000    3.000000  2024-04-09 00:00:00  7.000000e+06   \n",
            "std      14.447575    0.840875                  NaN  2.231052e+06   \n",
            "\n",
            "              Total  \n",
            "count  1.000000e+02  \n",
            "mean   8.055000e+06  \n",
            "min    7.500000e+05  \n",
            "25%    3.187500e+06  \n",
            "50%    7.000000e+06  \n",
            "75%    1.350000e+07  \n",
            "max    2.100000e+07  \n",
            "std    6.085832e+06  \n",
            "\n",
            "Jumlah transaksi per produk:\n",
            "Product\n",
            "Tablet        33\n",
            "Headphone     25\n",
            "Laptop        24\n",
            "Smartphone    18\n",
            "Name: count, dtype: int64\n"
          ]
        }
      ]
    },
    {
      "cell_type": "markdown",
      "source": [
        "**Tambahkan Kolom Bulan dan Tahun**\n"
      ],
      "metadata": {
        "id": "bZTPGfBV4xr5"
      }
    },
    {
      "cell_type": "code",
      "source": [
        "df['Month'] = df['Date'].dt.strftime('%Y-%m')\n",
        "df['Year'] = df['Date'].dt.year\n"
      ],
      "metadata": {
        "id": "-A5Pz9rO4wat"
      },
      "execution_count": null,
      "outputs": []
    },
    {
      "cell_type": "markdown",
      "source": [
        "**Analisis Penjualan**"
      ],
      "metadata": {
        "id": "PzhPa61944cd"
      }
    },
    {
      "cell_type": "code",
      "source": [
        "product_sales = df.groupby('Product')['Total'].sum().sort_values(ascending=False)\n",
        "print(product_sales)\n",
        "\n",
        "print (\"==========================BATAS==========================\")\n",
        "\n",
        "monthly_sales = df.groupby('Month')['Total'].sum()\n",
        "print(monthly_sales)\n",
        "\n",
        "print (\"==========================BATAS==========================\")\n",
        "\n",
        "top_customers = df.groupby('Customer_ID')['Total'].sum().sort_values(ascending=False).head(5)\n",
        "print(top_customers)\n"
      ],
      "metadata": {
        "colab": {
          "base_uri": "https://localhost:8080/"
        },
        "id": "_nnMlUgR42A1",
        "outputId": "50ddb899-3b47-4033-a8a1-1473fb017b5c"
      },
      "execution_count": null,
      "outputs": [
        {
          "output_type": "stream",
          "name": "stdout",
          "text": [
            "Product\n",
            "Laptop        364000000\n",
            "Tablet        274500000\n",
            "Smartphone    129500000\n",
            "Headphone      37500000\n",
            "Name: Total, dtype: int64\n",
            "==========================BATAS==========================\n",
            "Month\n",
            "2024-01    219500000\n",
            "2024-02    260250000\n",
            "2024-03    295500000\n",
            "2024-04     30250000\n",
            "Name: Total, dtype: int64\n",
            "==========================BATAS==========================\n",
            "Customer_ID\n",
            "1013    53500000\n",
            "1023    46000000\n",
            "1006    39000000\n",
            "1043    38250000\n",
            "1039    37000000\n",
            "Name: Total, dtype: int64\n"
          ]
        }
      ]
    },
    {
      "cell_type": "markdown",
      "source": [
        "**Visualisasi Data**"
      ],
      "metadata": {
        "id": "WYTtUMK85NvB"
      }
    },
    {
      "cell_type": "markdown",
      "source": [
        "Penjualan per Produk"
      ],
      "metadata": {
        "id": "3si_CEFW5ZFG"
      }
    },
    {
      "cell_type": "code",
      "source": [
        "plt.figure(figsize=(8, 5))\n",
        "product_sales.plot(kind='bar', color='skyblue')\n",
        "plt.title('Total Penjualan per Produk')\n",
        "plt.xlabel('Produk')\n",
        "plt.ylabel('Total Penjualan (Rp)')\n",
        "plt.xticks(rotation=45)\n",
        "plt.tight_layout()\n",
        "plt.show()\n"
      ],
      "metadata": {
        "colab": {
          "base_uri": "https://localhost:8080/",
          "height": 501
        },
        "id": "PfsK2Ehr4_u_",
        "outputId": "491ae268-0c9b-4670-c06f-0ae633c3a910"
      },
      "execution_count": null,
      "outputs": [
        {
          "output_type": "display_data",
          "data": {
            "text/plain": [
              "<Figure size 800x500 with 1 Axes>"
            ],
            "image/png": "[encoded data removed]"
          },
          "metadata": {}
        }
      ]
    },
    {
      "cell_type": "markdown",
      "source": [
        "Penjualan Bulanan"
      ],
      "metadata": {
        "id": "7s8hHGXi5cu3"
      }
    },
    {
      "cell_type": "code",
      "source": [
        "plt.figure(figsize=(10, 5))\n",
        "monthly_sales.plot(marker='o', linestyle='-', color='green')\n",
        "plt.title('Total Penjualan per Bulan')\n",
        "plt.xlabel('Bulan')\n",
        "plt.ylabel('Total Penjualan (Rp)')\n",
        "plt.xticks(rotation=45)\n",
        "plt.tight_layout()\n",
        "plt.show()\n"
      ],
      "metadata": {
        "colab": {
          "base_uri": "https://localhost:8080/",
          "height": 438
        },
        "id": "V4haQCli5SDf",
        "outputId": "df5a0e4e-2182-4a88-aaac-711c54f73c3d"
      },
      "execution_count": null,
      "outputs": [
        {
          "output_type": "display_data",
          "data": {
            "text/plain": [
              "<Figure size 1000x500 with 1 Axes>"
            ],
            "image/png": "[encoded data removed]"
          },
          "metadata": {}
        }
      ]
    },
    {
      "cell_type": "markdown",
      "source": [
        "Top 5 Customer"
      ],
      "metadata": {
        "id": "c-Om0K7o5dYj"
      }
    },
    {
      "cell_type": "code",
      "source": [
        "plt.figure(figsize=(8, 5))\n",
        "top_customers.plot(kind='barh', color='orange')\n",
        "plt.title('Top 5 Pelanggan berdasarkan Total Pembelian')\n",
        "plt.xlabel('Total (Rp)')\n",
        "plt.ylabel('Customer ID')\n",
        "plt.tight_layout()\n",
        "plt.show()\n"
      ],
      "metadata": {
        "colab": {
          "base_uri": "https://localhost:8080/",
          "height": 501
        },
        "id": "v2f4tx0B5dgU",
        "outputId": "ff8f94c4-f461-4479-b9a7-8bd1108e3dee"
      },
      "execution_count": null,
      "outputs": [
        {
          "output_type": "display_data",
          "data": {
            "text/plain": [
              "<Figure size 800x500 with 1 Axes>"
            ],
            "image/png": "[encoded data removed]"
          },
          "metadata": {}
        }
      ]
    },
    {
      "cell_type": "markdown",
      "source": [
        "**Insight dari Analisis**"
      ],
      "metadata": {
        "id": "TqZDZ4UF5qXK"
      }
    },
    {
      "cell_type": "code",
      "source": [
        "from IPython.display import Markdown\n",
        "\n",
        "insight = \"\"\"\n",
        "### 🔍 Insight dari Data:\n",
        "1. **Produk Terlaris**: Produk dengan total penjualan tertinggi adalah `{}`\n",
        "2. **Bulan Tertinggi**: Penjualan tertinggi terjadi pada bulan `{}`\n",
        "3. **Customer Terbaik**: Pelanggan dengan ID `{}` menyumbang pembelian terbanyak sebesar Rp{:,.0f}\n",
        "\"\"\".format(\n",
        "    product_sales.idxmax(),\n",
        "    monthly_sales.idxmax(),\n",
        "    top_customers.idxmax(),\n",
        "    top_customers.max()\n",
        ")\n",
        "\n",
        "display(Markdown(insight))\n"
      ],
      "metadata": {
        "colab": {
          "base_uri": "https://localhost:8080/",
          "height": 134
        },
        "id": "B7TGnCnW5rYK",
        "outputId": "9edf1d28-2dd4-4603-85cb-3fc762e20abc"
      },
      "execution_count": null,
      "outputs": [
        {
          "output_type": "display_data",
          "data": {
            "text/plain": [
              "<IPython.core.display.Markdown object>"
            ],
            "text/markdown": "\n### 🔍 Insight dari Data:\n1. **Produk Terlaris**: Produk dengan total penjualan tertinggi adalah `Laptop`\n2. **Bulan Tertinggi**: Penjualan tertinggi terjadi pada bulan `2024-03`\n3. **Customer Terbaik**: Pelanggan dengan ID `1013` menyumbang pembelian terbanyak sebesar Rp53,500,000\n"
          },
          "metadata": {}
        }
      ]
    },
    {
      "cell_type": "markdown",
      "source": [
        "**Simpan Dataset (Opsional)**"
      ],
      "metadata": {
        "id": "Yo5X0fzn5xBj"
      }
    },
    {
      "cell_type": "code",
      "source": [
        "# Simpan dataset hasil analisis\n",
        "df.to_csv('customer_sales_data.csv', index=False)\n"
      ],
      "metadata": {
        "id": "n1k8MZt-5tE-"
      },
      "execution_count": null,
      "outputs": []
    },
    {
      "cell_type": "code",
      "source": [],
      "metadata": {
        "id": "bseakozh5vn0"
      },
      "execution_count": null,
      "outputs": []
    }
  ]
}